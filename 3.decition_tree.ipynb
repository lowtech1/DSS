{
 "cells": [
  {
   "cell_type": "code",
   "execution_count": 34,
   "id": "b41c9d45",
   "metadata": {},
   "outputs": [
    {
     "name": "stdout",
     "output_type": "stream",
     "text": [
      "   x  y    z\n",
      "0  1  2  100\n",
      "1  2  4  100\n",
      "2  3  8  100\n"
     ]
    }
   ],
   "source": [
    "#tạo dataframe từ dict\n",
    "import pandas as pd\n",
    "d = { 'x': [1,2,3], 'y':[2,4,8],'z': 100}\n",
    "f = pd.DataFrame(d)\n",
    "print(f)\n"
   ]
  },
  {
   "cell_type": "code",
   "execution_count": 35,
   "id": "b6cd4377",
   "metadata": {},
   "outputs": [
    {
     "name": "stdout",
     "output_type": "stream",
     "text": [
      "      z  y  x\n",
      "10  100  2  1\n",
      "20  100  4  2\n",
      "30  100  8  3\n"
     ]
    }
   ],
   "source": [
    "d = {'x': [1,2,3], 'y': [2,4,8], 'z': 100}\n",
    "f = pd.DataFrame(d, index=[10,20,30], columns=['z','y','x'])\n",
    "print(f)"
   ]
  },
  {
   "cell_type": "code",
   "execution_count": 36,
   "id": "d4b45346",
   "metadata": {},
   "outputs": [
    {
     "name": "stdout",
     "output_type": "stream",
     "text": [
      "     Outlook Temperature Humidity    Wind Play\n",
      "0      Sunny         Hot     High    Weak   No\n",
      "1      Sunny         Hot     High  Strong   No\n",
      "2   Overcast         Hot     High    Weak  Yes\n",
      "3       Rain        Mild     High    Weak  Yes\n",
      "4       Rain        Cool   Normal    Weak  Yes\n",
      "5       Rain        Cool   Normal  Strong   No\n",
      "6   Overcast        Cool   Normal  Strong  Yes\n",
      "7      Sunny        Mild     High    Weak   No\n",
      "8      Sunny        Cool   Normal    Weak  Yes\n",
      "9       Rain        Mild   Normal    Weak  Yes\n",
      "10     Sunny        Mild   Normal  Strong  Yes\n",
      "11  Overcast        Mild     High  Strong  Yes\n",
      "12  Overcast         Hot   Normal    Weak  Yes\n",
      "13      Rain        Mild     High  Strong   No\n"
     ]
    }
   ],
   "source": [
    "#tạo dataframe từ csv\n",
    "df_wt = pd.read_csv('weather.csv')\n",
    "print(df_wt)"
   ]
  },
  {
   "cell_type": "markdown",
   "id": "473defa3",
   "metadata": {},
   "source": [
    "2. Cây quyết định (ID3)"
   ]
  },
  {
   "cell_type": "code",
   "execution_count": 37,
   "id": "974420c9",
   "metadata": {},
   "outputs": [
    {
     "name": "stdout",
     "output_type": "stream",
     "text": [
      "     Outlook Temperature Humidity    Wind Play\n",
      "0      Sunny         Hot     High    Weak   No\n",
      "1      Sunny         Hot     High  Strong   No\n",
      "2   Overcast         Hot     High    Weak  Yes\n",
      "3       Rain        Mild     High    Weak  Yes\n",
      "4       Rain        Cool   Normal    Weak  Yes\n",
      "5       Rain        Cool   Normal  Strong   No\n",
      "6   Overcast        Cool   Normal  Strong  Yes\n",
      "7      Sunny        Mild     High    Weak   No\n",
      "8      Sunny        Cool   Normal    Weak  Yes\n",
      "9       Rain        Mild   Normal    Weak  Yes\n",
      "10     Sunny        Mild   Normal  Strong  Yes\n",
      "11  Overcast        Mild     High  Strong  Yes\n",
      "12  Overcast         Hot   Normal    Weak  Yes\n",
      "13      Rain        Mild     High  Strong   No\n"
     ]
    }
   ],
   "source": [
    "import pandas as pd\n",
    "import numpy as np\n",
    "#Đọc dữ liệu từ file .csv và lưu vào dataframe\n",
    "train_data = pd.read_csv('weather.csv')\n",
    "print(train_data)"
   ]
  },
  {
   "cell_type": "code",
   "execution_count": 38,
   "id": "2a709903",
   "metadata": {},
   "outputs": [],
   "source": [
    "#Xây dựng hà tính entropy\n",
    "def entropy(data, class_col):\n",
    "    #Nhóm các giá trị khác nhau và đếm dòng dữ liệu có giá trị tương ứng\n",
    "    lb_count = data[class_col].groupby(data[class_col]).count().values\n",
    "    #Tính xác suất\n",
    "    p = lb_count/sum(lb_count)\n",
    "    #Tính entropy\n",
    "    entropy_val = sum(-p* np.log2(p))\n",
    "    return entropy_val"
   ]
  },
  {
   "cell_type": "code",
   "execution_count": 39,
   "id": "efa5ea85",
   "metadata": {},
   "outputs": [],
   "source": [
    "#Xây dựng hàm tính infomation gain\n",
    "def information_gain(data, att, class_col):\n",
    "    entropy_data = entropy(data, class_col)\n",
    "    entropy_part = [] #entropy của các phân vùng\n",
    "    length_part = []\n",
    "    #Với mỗi giá trị của cột att\n",
    "    for att_val in data[att].unique():\n",
    "        #Xác định phân vùng dữ liệu ứng với giá trị att_val của cột att\n",
    "        partition = data[data[att] == att_val] #fix\n",
    "        #Tính entropy ứng với phân vùng\n",
    "        entropy_part.append(entropy(partition, class_col))\n",
    "        #Lưu số dòng ứng với phân vùng\n",
    "        length_part.append(len(partition))\n",
    "\n",
    "    entropy_part = np.array(entropy_part)\n",
    "    ratio_part = np.array(length_part) / len(data)\n",
    "    \n",
    "    ig = entropy_data - np.sum(ratio_part * entropy_part)\n",
    "    return ig"
   ]
  },
  {
   "cell_type": "code",
   "execution_count": 40,
   "id": "b9c7a137",
   "metadata": {},
   "outputs": [],
   "source": [
    "#Kiểm tra một phân vùng có thuần nhất không\n",
    "def check_purity(data, class_col):\n",
    "    if len(np.unique(data[class_col])) == 1:\n",
    "        return True\n",
    "    else:\n",
    "        return False\n",
    "    "
   ]
  },
  {
   "cell_type": "code",
   "execution_count": 41,
   "id": "b40bb587",
   "metadata": {},
   "outputs": [],
   "source": [
    "#Xác định nhãn của một nhánh\n",
    "def classify(data, class_col):\n",
    "    classes, count_classes = np.unique(data[class_col], return_counts=True)\n",
    "    index = count_classes.argmax()\n",
    "    return classes[index]"
   ]
  },
  {
   "cell_type": "code",
   "execution_count": 42,
   "id": "dc53586f",
   "metadata": {},
   "outputs": [],
   "source": [
    "#Hàm xây dựng cây\n",
    "#Cây quyết định: Định dạng là dictionary\n",
    "#Mỗi phần tử là danh sách của cá dictionary\n",
    "def build_decision_tree(data, class_col, visited):\n",
    "    if check_purity(data, class_col):\n",
    "        return {'label': classify(data, class_col)}\n",
    "    \n",
    "    max_ig = -1 #lưu information gain lớn nhất\n",
    "    max_ig_col = '' #lưu cột (thuộc tính) ứng với gain lớn nhất\n",
    "\n",
    "    #duyệt qua các thuộc tính\n",
    "    for column in data.columns.values:\n",
    "        #nếu thuộc tính đã chưa xét và không phải cột lớp\n",
    "        if column not in visited and column != class_col:\n",
    "            #Tính information gain của thuộc tính đó\n",
    "            ig = information_gain(data, column, class_col)\n",
    "            if ig > max_ig:\n",
    "                max_ig = ig\n",
    "                max_ig_col = column\n",
    "    if max_ig <= 0:\n",
    "        return {'label': classify(data, class_col)}\n",
    "    \n",
    "    visited.append(max_ig_col)\n",
    "    sub_tree = {'node': max_ig_col, 'branches': [], 'label': None}\n",
    "\n",
    "    for att_val in data[max_ig_col].unique():\n",
    "        print(max_ig_col, att_val)\n",
    "        sub_tree_att = {}\n",
    "        sub_tree_att['branch'] = att_val\n",
    "        sub_tree_att['next'] = build_decision_tree(data[data[max_ig_col] == att_val],\n",
    "                                                        class_col, visited.copy())\n",
    "        sub_tree['branches'].append(sub_tree_att)\n",
    "    return sub_tree"
   ]
  },
  {
   "cell_type": "code",
   "execution_count": 43,
   "id": "39b0b0da",
   "metadata": {},
   "outputs": [],
   "source": [
    "#Hàm dự đoán nhãn của một mẫu dữ liệu đâu vào\n",
    "def classify_example(example, decision_tree):\n",
    "    if('label' in decision_tree.keys()) and (decision_tree['label'] != None):\n",
    "        return decision_tree['label']\n",
    "    \n",
    "    question = decision_tree['node']\n",
    "    for branch in decision_tree['branches']:\n",
    "        if branch['branch'] == example[question]:\n",
    "            return classify_example(example, branch['next'])\n",
    "    return 'Không tìm thấy'"
   ]
  },
  {
   "cell_type": "code",
   "execution_count": 44,
   "id": "651e4924",
   "metadata": {},
   "outputs": [
    {
     "name": "stdout",
     "output_type": "stream",
     "text": [
      "Outlook Sunny\n",
      "Humidity High\n",
      "Humidity Normal\n",
      "Outlook Overcast\n",
      "Outlook Rain\n",
      "Wind Weak\n",
      "Wind Strong\n",
      "{'node': 'Outlook', 'branches': [{'branch': 'Sunny', 'next': {'node': 'Humidity', 'branches': [{'branch': 'High', 'next': {'label': 'No'}}, {'branch': 'Normal', 'next': {'label': 'Yes'}}], 'label': None}}, {'branch': 'Overcast', 'next': {'label': 'Yes'}}, {'branch': 'Rain', 'next': {'node': 'Wind', 'branches': [{'branch': 'Weak', 'next': {'label': 'Yes'}}, {'branch': 'Strong', 'next': {'label': 'No'}}], 'label': None}}], 'label': None}\n"
     ]
    },
    {
     "data": {
      "text/plain": [
       "'Không tìm thấy'"
      ]
     },
     "execution_count": 44,
     "metadata": {},
     "output_type": "execute_result"
    }
   ],
   "source": [
    "col_of_class = 'Play'\n",
    "#Thực hiện\n",
    "visited = []\n",
    "tree = build_decision_tree(train_data, col_of_class, visited)\n",
    "print(tree)\n",
    "example = {'Outlook':'rainy', 'Temperature':'hot', 'Humidity':'normal', 'Wind':'strong'}\n",
    "classify_example(example, tree)\n"
   ]
  },
  {
   "cell_type": "code",
   "execution_count": 47,
   "id": "61f7b604",
   "metadata": {},
   "outputs": [
    {
     "name": "stdout",
     "output_type": "stream",
     "text": [
      "--- Cấu Trúc Cây Quyết Định ---\n",
      "Outlook?\n",
      " ├── Sunny:\n",
      "    |Humidity?\n",
      "    | ├── High:\n",
      "    |    |└── Predict: No\n",
      "    | └── Normal:\n",
      "    |    |└── Predict: Yes\n",
      " ├── Overcast:\n",
      "    |└── Predict: Yes\n",
      " └── Rain:\n",
      "    |Wind?\n",
      "    | ├── Weak:\n",
      "    |    |└── Predict: Yes\n",
      "    | └── Strong:\n",
      "    |    |└── Predict: No\n"
     ]
    }
   ],
   "source": [
    "def print_tree(decision_tree, indent=\"\"):\n",
    "    \"\"\"\n",
    "    Hàm đệ quy để in cây quyết định ra màn hình một cách trực quan.\n",
    "    \"\"\"\n",
    "    # Nếu là nút lá (có kết quả dự đoán)\n",
    "    if 'label' in decision_tree and decision_tree['label'] is not None:\n",
    "        print(f\"{indent}└── Predict: {decision_tree['label']}\")\n",
    "        return\n",
    "\n",
    "    # Nếu là nút quyết định (câu hỏi)\n",
    "    node_question = decision_tree['node']\n",
    "    print(f\"{indent}{node_question}?\")\n",
    "\n",
    "    # Duyệt qua các nhánh con\n",
    "    for i, branch in enumerate(decision_tree['branches']):\n",
    "        branch_value = branch['branch']\n",
    "        # Dùng ký tự khác cho nhánh cuối cùng để đẹp hơn\n",
    "        if i == len(decision_tree['branches']) - 1:\n",
    "            connector = \"└──\"\n",
    "        else:\n",
    "            connector = \"├──\"\n",
    "        \n",
    "        print(f\"{indent} {connector} {branch_value}:\")\n",
    "        # Gọi đệ quy để in cây con, tăng mức thụt lề\n",
    "        print_tree(branch['next'], indent + \"    |\")\n",
    "\n",
    "# Dữ liệu cây của bạn\n",
    "tree = {'node': 'Outlook', 'branches': [{'branch': 'Sunny', 'next': {'node': 'Humidity', 'branches': [{'branch': 'High', 'next': {'label': 'No'}}, {'branch': 'Normal', 'next': {'label': 'Yes'}}], 'label': None}}, {'branch': 'Overcast', 'next': {'label': 'Yes'}}, {'branch': 'Rain', 'next': {'node': 'Wind', 'branches': [{'branch': 'Weak', 'next': {'label': 'Yes'}}, {'branch': 'Strong', 'next': {'label': 'No'}}], 'label': None}}], 'label': None}\n",
    "\n",
    "# Gọi hàm để in cây\n",
    "print(\"--- Cấu Trúc Cây Quyết Định ---\")\n",
    "print_tree(tree)"
   ]
  },
  {
   "cell_type": "markdown",
   "id": "ce07fea2",
   "metadata": {},
   "source": [
    "Câu 2: Ứng dụng"
   ]
  },
  {
   "cell_type": "code",
   "execution_count": 48,
   "id": "5f772d8f",
   "metadata": {},
   "outputs": [
    {
     "name": "stdout",
     "output_type": "stream",
     "text": [
      "LichSuTinDung Tốt\n",
      "No Thấp\n",
      "No Cao\n",
      "LichSuTinDung Xấu\n",
      "LichSuTinDung Trung bình\n",
      "--- Cây Quyết Định: Dự Đoán Cho Vay ---\n",
      "LichSuTinDung?\n",
      " ├── Tốt:\n",
      "    |No?\n",
      "    | ├── Thấp:\n",
      "    |    |└── Predict: Có\n",
      "    | └── Cao:\n",
      "    |    |└── Predict: Không\n",
      " ├── Xấu:\n",
      "    |└── Predict: Không\n",
      " └── Trung bình:\n",
      "    |└── Predict: Có\n"
     ]
    }
   ],
   "source": [
    "# --- Tập dữ liệu 1: Vay vốn ---\n",
    "loan_data = {\n",
    "    'LichSuTinDung': ['Tốt', 'Xấu', 'Tốt', 'Trung bình', 'Tốt', 'Xấu', 'Trung bình', 'Tốt'],\n",
    "    'ThuNhap': ['Cao', 'Cao', 'Thấp', 'Trung bình', 'Trung bình', 'Thấp', 'Cao', 'Trung bình'],\n",
    "    'No': ['Thấp', 'Cao', 'Thấp', 'Thấp', 'Cao', 'Cao', 'Cao', 'Thấp'],\n",
    "    'ChoVay': ['Có', 'Không', 'Có', 'Có', 'Không', 'Không', 'Có', 'Có']\n",
    "}\n",
    "df_loan = pd.DataFrame(loan_data)\n",
    "\n",
    "# Chỉ định cột mục tiêu\n",
    "loan_class_col = 'ChoVay'\n",
    "\n",
    "# Xây dựng cây\n",
    "loan_tree = build_decision_tree(df_loan, loan_class_col, visited=[])\n",
    "\n",
    "# In cây ra màn hình\n",
    "print(\"--- Cây Quyết Định: Dự Đoán Cho Vay ---\")\n",
    "print_tree(loan_tree)"
   ]
  },
  {
   "cell_type": "code",
   "execution_count": null,
   "id": "752b342c",
   "metadata": {},
   "outputs": [
    {
     "name": "stdout",
     "output_type": "stream",
     "text": [
      "\n",
      "--- Kiểm tra dự đoán cho các hồ sơ mới ---\n",
      "Hồ sơ 1: {'LichSuTinDung': 'Tốt', 'ThuNhap': 'Cao', 'No': 'Thấp'}\n",
      "\n",
      "Hồ sơ 2: {'LichSuTinDung': 'Xấu', 'ThuNhap': 'Cao', 'No': 'Thấp'}\n",
      "\n",
      "Hồ sơ 3: {'LichSuTinDung': 'Trung bình', 'ThuNhap': 'Cao', 'No': 'Cao'}\n"
     ]
    },
    {
     "data": {
      "text/plain": [
       "'Có'"
      ]
     },
     "execution_count": 49,
     "metadata": {},
     "output_type": "execute_result"
    }
   ],
   "source": [
    "# --- Kiểm tra cây Vay vốn ---\n",
    "print(\"\\n--- Kiểm tra dự đoán cho các hồ sơ mới ---\")\n",
    "\n",
    "# Ví dụ 1: Khách hàng có lịch sử tín dụng tốt\n",
    "example1 = {'LichSuTinDung': 'Tốt', 'ThuNhap': 'Cao', 'No': 'Thấp'}\n",
    "print(\"Hồ sơ 1:\", example1)\n",
    "classify_example(example1, loan_tree)\n",
    "\n",
    "# Ví dụ 2: Khách hàng có lịch sử tín dụng xấu nhưng thu nhập cao\n",
    "example2 = {'LichSuTinDung': 'Xấu', 'ThuNhap': 'Cao', 'No': 'Thấp'}\n",
    "print(\"\\nHồ sơ 2:\", example2)\n",
    "classify_example(example2, loan_tree)\n",
    "\n",
    "# Ví dụ 3: Khách hàng có lịch sử tín dụng trung bình và thu nhập cao\n",
    "example3 = {'LichSuTinDung': 'Trung bình', 'ThuNhap': 'Cao', 'No': 'Cao'}\n",
    "print(\"\\nHồ sơ 3:\", example3)\n",
    "classify_example(example3, loan_tree)"
   ]
  }
 ],
 "metadata": {
  "kernelspec": {
   "display_name": "Python 3",
   "language": "python",
   "name": "python3"
  },
  "language_info": {
   "codemirror_mode": {
    "name": "ipython",
    "version": 3
   },
   "file_extension": ".py",
   "mimetype": "text/x-python",
   "name": "python",
   "nbconvert_exporter": "python",
   "pygments_lexer": "ipython3",
   "version": "3.11.5"
  }
 },
 "nbformat": 4,
 "nbformat_minor": 5
}
