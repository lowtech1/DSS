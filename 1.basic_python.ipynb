{
  "nbformat": 4,
  "nbformat_minor": 0,
  "metadata": {
    "colab": {
      "provenance": []
    },
    "kernelspec": {
      "name": "python3",
      "display_name": "Python 3"
    },
    "language_info": {
      "name": "python"
    }
  },
  "cells": [
    {
      "cell_type": "code",
      "execution_count": 1,
      "metadata": {
        "colab": {
          "base_uri": "https://localhost:8080/"
        },
        "id": "Qznuio1RZ6Gz",
        "outputId": "b3ac3561-b494-49c5-e7a5-feaf8e5726c1"
      },
      "outputs": [
        {
          "output_type": "stream",
          "name": "stdout",
          "text": [
            "Hello, World\n"
          ]
        }
      ],
      "source": [
        "print('Hello, World')"
      ]
    },
    {
      "cell_type": "markdown",
      "source": [
        "Đầu dòng - Indentation"
      ],
      "metadata": {
        "id": "gKOW4Vu2dY11"
      }
    },
    {
      "cell_type": "code",
      "source": [
        "x = 1\n",
        "if x == 1:\n",
        "  print('x là 1')\n",
        "  #lenh in khi dieu kien x la dung"
      ],
      "metadata": {
        "colab": {
          "base_uri": "https://localhost:8080/"
        },
        "id": "XmmM4m8VdUE2",
        "outputId": "e6a9fe44-d421-4fbc-f45a-c22bbcb494ed"
      },
      "execution_count": 2,
      "outputs": [
        {
          "output_type": "stream",
          "name": "stdout",
          "text": [
            "x là 1\n"
          ]
        }
      ]
    },
    {
      "cell_type": "markdown",
      "source": [
        "Biến và kiểu"
      ],
      "metadata": {
        "id": "Ul5ykvRpdu40"
      }
    },
    {
      "cell_type": "markdown",
      "source": [
        "Không yêu cầu khai báo các biến trước khi sử dụng; có thể tạo các\n",
        "biến bất khi khi nào cần.\n",
        "Kiểu số: hỗ trợ integer và float"
      ],
      "metadata": {
        "id": "Z4jtj6iMekok"
      }
    },
    {
      "cell_type": "code",
      "source": [
        "#ráng x = 7\n",
        "myint = 7\n",
        "print(myint)\n",
        "myfloat = 7.0\n",
        "print(myfloat)\n",
        "#ép kiểu dữ liệu float\n",
        "myfloat = float(myint)\n",
        "print(myfloat)\n",
        "#ép kiểu dữ liệu float\n",
        "myint = int(myfloat)\n",
        "print(myint)"
      ],
      "metadata": {
        "colab": {
          "base_uri": "https://localhost:8080/"
        },
        "id": "trjTv8Dhdtui",
        "outputId": "c21e5799-163e-4ff6-dfde-7e32a85f2adb"
      },
      "execution_count": 3,
      "outputs": [
        {
          "output_type": "stream",
          "name": "stdout",
          "text": [
            "7\n",
            "7.0\n",
            "7.0\n",
            "7\n"
          ]
        }
      ]
    },
    {
      "cell_type": "markdown",
      "source": [
        "Kiểu chuỗi (string): đặt trong dấu ngoặc đơn ’ hay\n",
        "dấu ngoặc kép \""
      ],
      "metadata": {
        "id": "1O7wLfnhegpJ"
      }
    },
    {
      "cell_type": "code",
      "source": [
        "#rang chuoi va in\n",
        "mystring = \"hello, world!\"\n",
        "print(mystring)\n",
        "mystring = \"Let's talk about Python\"\n",
        "print(mystring)"
      ],
      "metadata": {
        "colab": {
          "base_uri": "https://localhost:8080/"
        },
        "id": "ArqlzCE8ebnE",
        "outputId": "6c034510-0adf-4ddf-d8e4-16a47747ba4f"
      },
      "execution_count": 4,
      "outputs": [
        {
          "output_type": "stream",
          "name": "stdout",
          "text": [
            "hello, world!\n",
            "Let's talk about Python\n"
          ]
        }
      ]
    },
    {
      "cell_type": "markdown",
      "source": [
        "Có thể áp dụng các toán tử đơn giản cho các biến hoặc gán nhiều\n",
        "biến đồng thời"
      ],
      "metadata": {
        "id": "tQKkwgmhfABE"
      }
    },
    {
      "cell_type": "code",
      "source": [
        "b1 = 1\n",
        "b2 = 2\n",
        "b3 = b1 + b2\n",
        "print(b3)\n",
        "\n",
        "h = \"Hello,\"\n",
        "w = \"World!\"\n",
        "hw = h + \" \" +w\n",
        "print(hw)\n",
        "\n",
        "a,b = 3,4\n",
        "print(a, b)"
      ],
      "metadata": {
        "colab": {
          "base_uri": "https://localhost:8080/"
        },
        "id": "RQM9Aaeue8MS",
        "outputId": "29c4f019-c394-4c80-d3a4-f6235988870d"
      },
      "execution_count": 7,
      "outputs": [
        {
          "output_type": "stream",
          "name": "stdout",
          "text": [
            "3\n",
            "Hello, World!\n",
            "3 4\n"
          ]
        }
      ]
    },
    {
      "cell_type": "markdown",
      "source": [
        "Thêm giá trị biến số vào chuỗi với hàm format"
      ],
      "metadata": {
        "id": "3pSehWxOffDT"
      }
    },
    {
      "cell_type": "code",
      "source": [
        "b = 1/3 * 100\n",
        "print(\"Bien khong dinh dang: {}%\".format(b))\n",
        "print('Bien dinh dang: {:.3f}%'.format(b))\n",
        "print('Bien dinh dang dau cach: {:10.1f}%'.format(b))\n",
        "c=2\n",
        "print('Bien c  = {} va b = {:.3f}'.format(c,b))\n"
      ],
      "metadata": {
        "colab": {
          "base_uri": "https://localhost:8080/"
        },
        "id": "j1uUBxNLfcgS",
        "outputId": "9bae4e6b-1470-4e6e-fa72-9c1df1a78bdc"
      },
      "execution_count": 8,
      "outputs": [
        {
          "output_type": "stream",
          "name": "stdout",
          "text": [
            "Bien khong dinh dang: 33.33333333333333%\n",
            "Bien dinh dang: 33.333%\n",
            "Bien dinh dang dau cach:       33.3%\n",
            "Bien c  = 2 va b = 33.333\n"
          ]
        }
      ]
    },
    {
      "cell_type": "markdown",
      "source": [
        "Danh sách - List\n",
        "\n",
        "Danh sách có thứ tự của bất kỳ loại kiểu dữ liệu gì của\n",
        "biến → kết hợp nhiều biến khác loại; thường danh sách\n",
        "chứa cùng loại kiểu. Một danh sách được đặt giữa dấu\n",
        "ngoặc vuông [ ]"
      ],
      "metadata": {
        "id": "eStenKZXgTkE"
      }
    },
    {
      "cell_type": "code",
      "source": [
        "#tao mot list rong\n",
        "ds = []\n",
        "#them gia tri 1, 2, 3\n",
        "ds.append(1); ds.append(2); ds.append(3)\n",
        "#in ra list ds, in ra gia tri vi tri dau, in gia tri cuoi, in gia tri tu 2-3\n",
        "print(ds); print(ds[0]); print(ds[-1]); print(ds[1:3])\n",
        "for x in ds: #in gia tri danh sach ds\n",
        "  print(x)"
      ],
      "metadata": {
        "colab": {
          "base_uri": "https://localhost:8080/"
        },
        "id": "9A_r8i_tgQEl",
        "outputId": "73cfb0e8-4012-48e6-d266-c451cfc05141"
      },
      "execution_count": 9,
      "outputs": [
        {
          "output_type": "stream",
          "name": "stdout",
          "text": [
            "[1, 2, 3]\n",
            "1\n",
            "3\n",
            "[2, 3]\n",
            "1\n",
            "2\n",
            "3\n"
          ]
        }
      ]
    },
    {
      "cell_type": "markdown",
      "source": [
        "Danh sách - List\n",
        "\n",
        "Kiểm tra kiểu biến bằng isinstance. Ví dụ:\n",
        "isinstance(x, float)\n",
        "\n",
        "Nhận được số vòng lặp và giá trị từng phần tử bằng\n",
        "enumerate. Ví dụ: for i, x in enumerate(ds)\n",
        "\n",
        "Sắp xếp: sort\n",
        "\n",
        "Số lượng các mục trong danh sách: len\n",
        "\n",
        "Số lần một biến xuất hiện trong danh sách:\n",
        "\n",
        "list.count(x)"
      ],
      "metadata": {
        "id": "veMM2dG-hTgT"
      }
    },
    {
      "cell_type": "code",
      "source": [
        "names = [\"An\", 3234, 2342, 3323, \"Yen\", 234, \"Cao\", 734978234, \"Lam\", 2384]\n",
        "print(\"So names trong danh sach: {}\".format(len(names)))\n",
        "new_names = []\n",
        "for n in names:\n",
        "  #kiem tra kieu bien\n",
        "  if isinstance(n, str):\n",
        "    #chon lai name la kieu chuoi\n",
        "    new_names.append(n)\n",
        "#Sap xep\n",
        "new_names.sort()\n",
        "print(\"So name la kieu chuoi: {}.\".format(len(new_names)))\n",
        "#nhan duoc so vong lap va gia tri tung phan tu\n",
        "for i, n in enumerate(new_names):\n",
        "  #In ten kem voi thu tu trong danh sach\n",
        "  print('{}. {}'.format(i,n))"
      ],
      "metadata": {
        "colab": {
          "base_uri": "https://localhost:8080/"
        },
        "id": "cZ0lLE7jhQmD",
        "outputId": "73bc5c73-578b-4233-8f67-0c3041795e29"
      },
      "execution_count": 32,
      "outputs": [
        {
          "output_type": "stream",
          "name": "stdout",
          "text": [
            "So names trong danh sach: 10\n",
            "So name la kieu chuoi: 4.\n",
            "0. An\n",
            "1. Cao\n",
            "2. Lam\n",
            "3. Yen\n"
          ]
        }
      ]
    },
    {
      "cell_type": "markdown",
      "source": [
        "Từ điển - Dictionaries\n",
        "\n",
        "Tương tự mảng nhưng bao gồm cặp <khóa: giá trị>.\n",
        "Mỗi giá trị lưu trữ trong từ điển được truy cập bằng\n",
        "khóa của nó và giá trị có thể là bất kỳ loại đối tượng\n",
        "nào. Từ điển được đặt trong"
      ],
      "metadata": {
        "id": "XMNqddTnjdpu"
      }
    },
    {
      "cell_type": "code",
      "source": [
        "phonebook = {}\n",
        "phonebook[\"An\"] = {\"Phone\": \"0903 794 794\", \"Email\": 'an@email.com' }\n",
        "phonebook[\"Binh\"] = {\"Phone\": \"0192 812 812\", \"Email\": 'binh@email.com'}\n",
        "phonebook[\"Cao\"] = {\"Phone\": \"0129 812 721\", \"Email\": 'cao@email.com'}\n",
        "print(phonebook)\n"
      ],
      "metadata": {
        "colab": {
          "base_uri": "https://localhost:8080/"
        },
        "id": "s8DUBBv-jWK8",
        "outputId": "11120c33-7137-4068-924f-47d2b7550b98"
      },
      "execution_count": 41,
      "outputs": [
        {
          "output_type": "stream",
          "name": "stdout",
          "text": [
            "{'An': {'Phone': '0903 794 794', 'Email': 'an@email.com'}, 'Binh': {'Phone': '0192 812 812', 'Email': 'binh@email.com'}, 'Cao': {'Phone': '0129 812 721', 'Email': 'cao@email.com'}}\n"
          ]
        }
      ]
    },
    {
      "cell_type": "markdown",
      "source": [
        "Từ điển - Dictionaries\n",
        "\n",
        "Duyệt từ điển bằng dùng .items()"
      ],
      "metadata": {
        "id": "CdQQ-XVQkZcN"
      }
    },
    {
      "cell_type": "code",
      "source": [
        "#lay ra ten va dulieu(p,e)\n",
        "for ten, dulieu in phonebook.items():\n",
        "  print(\"{} co so dien thoai la {} va email la {}\".format(ten, dulieu['Phone'], dulieu['Email']))"
      ],
      "metadata": {
        "colab": {
          "base_uri": "https://localhost:8080/"
        },
        "id": "hJ9M_uDxkSPF",
        "outputId": "b06045b4-a23b-4862-858d-6b2582418479"
      },
      "execution_count": 42,
      "outputs": [
        {
          "output_type": "stream",
          "name": "stdout",
          "text": [
            "An co so dien thoai la 0903 794 794 va email la an@email.com\n",
            "Binh co so dien thoai la 0192 812 812 va email la binh@email.com\n",
            "Cao co so dien thoai la 0129 812 721 va email la cao@email.com\n"
          ]
        }
      ]
    },
    {
      "cell_type": "markdown",
      "source": [
        "Từ điển - Dictionaries\n",
        "\n",
        "Xóa dữ liệu bằng del hay pop"
      ],
      "metadata": {
        "id": "NiCenm6GlO70"
      }
    },
    {
      "cell_type": "code",
      "source": [
        "del phonebook[\"An\"]\n",
        "# Iterate over a copy of the dictionary when deleting items\n",
        "for ten, dulieu in phonebook.items():\n",
        "  print(\"{} co so dien thoai la {} va email la {}\".format(ten, dulieu['Phone'], dulieu['Email']))\n",
        "\n",
        "  binh_data = phonebook.pop(\"Binh\")\n",
        "  print(binh_data)\n",
        "\n",
        "  # The second loop should also iterate over a copy if modifications happen inside\n",
        "  for ten, dulieu in phonebook.items():\n",
        "    print('{} co so dien thoai la {} va email la {}'.format(ten, dulieu['Phone'], dulieu['Email']))"
      ],
      "metadata": {
        "colab": {
          "base_uri": "https://localhost:8080/",
          "height": 280
        },
        "id": "NXbtTUwrjprU",
        "outputId": "31d5dec4-185a-480d-818f-a29fe815da07"
      },
      "execution_count": 43,
      "outputs": [
        {
          "output_type": "stream",
          "name": "stdout",
          "text": [
            "Binh co so dien thoai la 0192 812 812 va email la binh@email.com\n",
            "{'Phone': '0192 812 812', 'Email': 'binh@email.com'}\n",
            "Cao co so dien thoai la 0129 812 721 va email la cao@email.com\n"
          ]
        },
        {
          "output_type": "error",
          "ename": "RuntimeError",
          "evalue": "dictionary changed size during iteration",
          "traceback": [
            "\u001b[0;31m---------------------------------------------------------------------------\u001b[0m",
            "\u001b[0;31mRuntimeError\u001b[0m                              Traceback (most recent call last)",
            "\u001b[0;32m/tmp/ipython-input-1003444663.py\u001b[0m in \u001b[0;36m<cell line: 0>\u001b[0;34m()\u001b[0m\n\u001b[1;32m      1\u001b[0m \u001b[0;32mdel\u001b[0m \u001b[0mphonebook\u001b[0m\u001b[0;34m[\u001b[0m\u001b[0;34m\"An\"\u001b[0m\u001b[0;34m]\u001b[0m\u001b[0;34m\u001b[0m\u001b[0;34m\u001b[0m\u001b[0m\n\u001b[1;32m      2\u001b[0m \u001b[0;31m# Iterate over a copy of the dictionary when deleting items\u001b[0m\u001b[0;34m\u001b[0m\u001b[0;34m\u001b[0m\u001b[0m\n\u001b[0;32m----> 3\u001b[0;31m \u001b[0;32mfor\u001b[0m \u001b[0mten\u001b[0m\u001b[0;34m,\u001b[0m \u001b[0mdulieu\u001b[0m \u001b[0;32min\u001b[0m \u001b[0mphonebook\u001b[0m\u001b[0;34m.\u001b[0m\u001b[0mitems\u001b[0m\u001b[0;34m(\u001b[0m\u001b[0;34m)\u001b[0m\u001b[0;34m:\u001b[0m\u001b[0;34m\u001b[0m\u001b[0;34m\u001b[0m\u001b[0m\n\u001b[0m\u001b[1;32m      4\u001b[0m   \u001b[0mprint\u001b[0m\u001b[0;34m(\u001b[0m\u001b[0;34m\"{} co so dien thoai la {} va email la {}\"\u001b[0m\u001b[0;34m.\u001b[0m\u001b[0mformat\u001b[0m\u001b[0;34m(\u001b[0m\u001b[0mten\u001b[0m\u001b[0;34m,\u001b[0m \u001b[0mdulieu\u001b[0m\u001b[0;34m[\u001b[0m\u001b[0;34m'Phone'\u001b[0m\u001b[0;34m]\u001b[0m\u001b[0;34m,\u001b[0m \u001b[0mdulieu\u001b[0m\u001b[0;34m[\u001b[0m\u001b[0;34m'Email'\u001b[0m\u001b[0;34m]\u001b[0m\u001b[0;34m)\u001b[0m\u001b[0;34m)\u001b[0m\u001b[0;34m\u001b[0m\u001b[0;34m\u001b[0m\u001b[0m\n\u001b[1;32m      5\u001b[0m   \u001b[0mbinh_data\u001b[0m \u001b[0;34m=\u001b[0m \u001b[0mphonebook\u001b[0m\u001b[0;34m.\u001b[0m\u001b[0mpop\u001b[0m\u001b[0;34m(\u001b[0m\u001b[0;34m\"Binh\"\u001b[0m\u001b[0;34m)\u001b[0m\u001b[0;34m\u001b[0m\u001b[0;34m\u001b[0m\u001b[0m\n",
            "\u001b[0;31mRuntimeError\u001b[0m: dictionary changed size during iteration"
          ]
        }
      ]
    },
    {
      "cell_type": "markdown",
      "source": [
        "Từ điển - Dictionaries\n",
        "\n",
        ".get(\"Key\", default). default: có thể là bất kỳ biến gì\n",
        "hoặc True/False. Nếu bỏ trống thì kết quả là False nếu\n",
        "không tìm thấy"
      ],
      "metadata": {
        "id": "qqDhPb_XoT0k"
      }
    },
    {
      "cell_type": "code",
      "source": [
        "binh_data = phonebook.get(\"Binh\", False)\n",
        "if binh_data:\n",
        "  print(\"Thong tin binh: {} va email la {}\".format(ten, binh_data['Phone'], binh_daya['Email']))\n",
        "else:\n",
        "  print('Khong co du lieu')"
      ],
      "metadata": {
        "colab": {
          "base_uri": "https://localhost:8080/"
        },
        "id": "xSV3OJQXoRxL",
        "outputId": "ab8dd8d2-90ba-4e7a-d47f-e390214a6932"
      },
      "execution_count": 44,
      "outputs": [
        {
          "output_type": "stream",
          "name": "stdout",
          "text": [
            "Khong co du lieu\n"
          ]
        }
      ]
    },
    {
      "cell_type": "markdown",
      "source": [
        "Toan tu"
      ],
      "metadata": {
        "id": "zMt8Ljlco51w"
      }
    },
    {
      "cell_type": "code",
      "source": [
        "x = 1 + 3/2 * 0.4\n",
        "y = 7 ** 2\n",
        "z = 12%3\n",
        "print(x, y ,z )"
      ],
      "metadata": {
        "colab": {
          "base_uri": "https://localhost:8080/"
        },
        "id": "L_aTmWpeo4t2",
        "outputId": "e9407803-984a-41dd-8f95-ca6f9feecfd4"
      },
      "execution_count": 45,
      "outputs": [
        {
          "output_type": "stream",
          "name": "stdout",
          "text": [
            "1.6 49 0\n"
          ]
        }
      ]
    },
    {
      "cell_type": "code",
      "source": [
        "even_numbers = [2,4,6,8]\n",
        "uneven_numbers = [1,3,5,7]\n",
        "all_numbers = uneven_numbers + even_numbers\n",
        "print(all_numbers)\n",
        "#lap lai dnah sach\n",
        "print([1,2,3] * 3)"
      ],
      "metadata": {
        "colab": {
          "base_uri": "https://localhost:8080/"
        },
        "id": "2R8L7CF0pO1N",
        "outputId": "0b940b88-0575-4a48-834b-21640aaae8f9"
      },
      "execution_count": 46,
      "outputs": [
        {
          "output_type": "stream",
          "name": "stdout",
          "text": [
            "[1, 3, 5, 7, 2, 4, 6, 8]\n",
            "[1, 2, 3, 1, 2, 3, 1, 2, 3]\n"
          ]
        }
      ]
    },
    {
      "cell_type": "code",
      "source": [
        "#cong chuoi\n",
        "elloworld = 'Hello,' + \" \" + \"World!\"\n",
        "print(helloworld)\n",
        "manyhellos = \"Hello \" * 10\n",
        "print(manyhellos)\n"
      ],
      "metadata": {
        "colab": {
          "base_uri": "https://localhost:8080/"
        },
        "id": "Mi5xcis5qJZg",
        "outputId": "b72a19a3-ecf6-4813-f037-84a1de32e34f"
      },
      "execution_count": 48,
      "outputs": [
        {
          "output_type": "stream",
          "name": "stdout",
          "text": [
            "Hello, World!\n",
            "Hello Hello Hello Hello Hello Hello Hello Hello Hello Hello \n"
          ]
        }
      ]
    },
    {
      "cell_type": "code",
      "source": [
        "str_x = \"Hello, World\"\n",
        "print(\"Chieu dai chuoi: {}\".format(len(str_x)))\n",
        "print(\"Chi muc cua 'o' dau tien: {}\".format(str_x.index('o')))\n",
        "print(\"So 'o': {}\".format(str_x.count('o')))"
      ],
      "metadata": {
        "colab": {
          "base_uri": "https://localhost:8080/"
        },
        "id": "AndBPbw3rXxR",
        "outputId": "fff6adfb-d982-47d6-c428-bd47ead192e0"
      },
      "execution_count": 49,
      "outputs": [
        {
          "output_type": "stream",
          "name": "stdout",
          "text": [
            "Chieu dai chuoi: 12\n",
            "Chi muc cua 'o' dau tien: 4\n",
            "So 'o': 2\n"
          ]
        }
      ]
    },
    {
      "cell_type": "code",
      "source": [
        "print('Chuoi con gom tu thu 2 den 5 la\" {}'.format(str_x[2:6]))\n",
        "print(\"Chuoi con duyet bo qua 1 ky tu (3,5,7,..): {}\".format(str_x[3:-2:2]))\n",
        "print(\"Chuoi dao nguoc: {}\".format(str_x[::-1]))\n",
        "print(\"Bat dau voi 'Hello': {}\".format(str_x.startswith('Hello')))\n",
        "print(\"Ket thuc voi 'Hello': {} \".format(str_x.endswith('Hello')))\n",
        "print(\"Chua 'Goodbye':{}\".format('Goodbye' in str_x))\n",
        "print(\"Tach chuoi: {}\".format(str_x.split(\" \")))"
      ],
      "metadata": {
        "colab": {
          "base_uri": "https://localhost:8080/"
        },
        "id": "4J3bVj7ZsTiy",
        "outputId": "c7ebb7b8-f32b-4f0e-8780-3d471e180533"
      },
      "execution_count": 52,
      "outputs": [
        {
          "output_type": "stream",
          "name": "stdout",
          "text": [
            "Chuoi con gom tu thu 2 den 5 la\" llo,\n",
            "Chuoi con duyet bo qua 1 ky tu (3,5,7,..): l,Wr\n",
            "Chuoi dao nguoc: dlroW ,olleH\n",
            "Bat dau voi 'Hello': True\n",
            "Ket thuc voi 'Hello': False \n",
            "Chua 'Goodbye':False\n",
            "Tach chuoi: ['Hello,', 'World']\n"
          ]
        }
      ]
    },
    {
      "cell_type": "code",
      "source": [
        "x=2\n",
        "y=10\n",
        "if x > 2:\n",
        "  print(\" x > 2\")\n",
        "elif x ==2 and y > 50:\n",
        "  print(\"x == 2 vaf y > 50\")\n",
        "elif x < 10 or y > 50:\n",
        "  print('x < 10 hoac y > 50')\n",
        "else:\n",
        "  print(\"Nothing\")\n",
        "name_list1 = ['Join', 'Jill']\n",
        "name_list2 = ['Join', 'Jill']\n",
        "print(not(name_list1 == name_list2))\n",
        "print(name_list1 == name_list2)\n",
        "print(name_list1 is name_list2)"
      ],
      "metadata": {
        "colab": {
          "base_uri": "https://localhost:8080/"
        },
        "id": "j0sbCOxGtmt3",
        "outputId": "64989146-675b-42d3-9996-f69dd749a103"
      },
      "execution_count": 53,
      "outputs": [
        {
          "output_type": "stream",
          "name": "stdout",
          "text": [
            "x < 10 hoac y > 50\n",
            "False\n",
            "True\n",
            "False\n"
          ]
        }
      ]
    },
    {
      "cell_type": "code",
      "source": [
        "for i, x in enumerate(range(2,8,2)):\n",
        "  print('{}.Khong {}'.format(i,x))"
      ],
      "metadata": {
        "colab": {
          "base_uri": "https://localhost:8080/"
        },
        "id": "tBmHfZ3OuUTD",
        "outputId": "e95a6a05-3260-434d-af31-77963b09d3c2"
      },
      "execution_count": 54,
      "outputs": [
        {
          "output_type": "stream",
          "name": "stdout",
          "text": [
            "0.Khong 2\n",
            "1.Khong 4\n",
            "2.Khong 6\n"
          ]
        }
      ]
    },
    {
      "cell_type": "code",
      "source": [
        "count = 0\n",
        "print('Break and while conditional')\n",
        "while True:\n",
        "  print(count)\n",
        "  count +=1\n",
        "  if count >=3:\n",
        "    break\n",
        "  print(\"Continue\")\n",
        "  for x in range(4):\n",
        "    if (x+1) % 2 == 0:\n",
        "      continue\n",
        "    print(x)"
      ],
      "metadata": {
        "colab": {
          "base_uri": "https://localhost:8080/"
        },
        "id": "H8tBPyA9ufhX",
        "outputId": "9677d165-2579-4f6e-e310-975cf8bc69c6"
      },
      "execution_count": 56,
      "outputs": [
        {
          "output_type": "stream",
          "name": "stdout",
          "text": [
            "Break and while conditional\n",
            "0\n",
            "Continue\n",
            "0\n",
            "2\n",
            "1\n",
            "Continue\n",
            "0\n",
            "2\n",
            "2\n"
          ]
        }
      ]
    },
    {
      "cell_type": "markdown",
      "source": [
        "List comprehension\n",
        "\n",
        "Cách nhanh chóng để lọc hoặc chỉnh sửa một danh sách\n",
        "dựa trên một số tiêu chí."
      ],
      "metadata": {
        "id": "7aoopBd5wsac"
      }
    },
    {
      "cell_type": "code",
      "source": [
        "sentence = 'for the song and the sword aer birthrights sold to userer, but I am the last lone highwayman and I am the last adventurer '\n",
        "words = sentence.split()\n",
        "word_lengths = []\n",
        "for word in words:\n",
        "  if word!='the':\n",
        "    word_lengths.append(len(word))\n",
        "print(word_lengths)\n",
        "\n",
        "#the exact same thing can be achieved with a list comperhensi\n",
        "word_lengths= [len(word) for word in sentence.split(' ') if word != 'the' ]\n",
        "print(word_lengths)"
      ],
      "metadata": {
        "colab": {
          "base_uri": "https://localhost:8080/"
        },
        "id": "TEgbBjibx6Es",
        "outputId": "a356f234-40fc-4bb5-a4f3-8a15b8c7fd46"
      },
      "execution_count": 59,
      "outputs": [
        {
          "output_type": "stream",
          "name": "stdout",
          "text": [
            "[3, 4, 3, 5, 3, 11, 4, 2, 7, 3, 1, 2, 4, 4, 10, 3, 1, 2, 4, 10]\n",
            "[3, 4, 3, 5, 3, 11, 4, 2, 7, 3, 1, 2, 4, 4, 10, 3, 1, 2, 4, 10, 0]\n"
          ]
        }
      ]
    },
    {
      "cell_type": "code",
      "source": [
        "def print_list(my_list):\n",
        "  for i in range(5):\n",
        "    try:\n",
        "      print(my_list[i])\n",
        "    except IndexError:\n",
        "      print(0)\n",
        "print_list([1,2,3,4])"
      ],
      "metadata": {
        "colab": {
          "base_uri": "https://localhost:8080/"
        },
        "id": "JgOQjdtax7GY",
        "outputId": "7fbfccd6-feaa-4fd2-c5a5-0afbb95cfde7"
      },
      "execution_count": 64,
      "outputs": [
        {
          "output_type": "stream",
          "name": "stdout",
          "text": [
            "1\n",
            "2\n",
            "3\n",
            "4\n",
            "0\n"
          ]
        }
      ]
    },
    {
      "cell_type": "code",
      "source": [
        "def print_zero(zero):\n",
        "  if zero != 0:\n",
        "    raise (ValueError, \"Not Zero!\")\n",
        "  print(zero)\n",
        "print_zero(10)"
      ],
      "metadata": {
        "colab": {
          "base_uri": "https://localhost:8080/",
          "height": 297
        },
        "id": "WbFjp6UiyfJ3",
        "outputId": "3914c184-845e-4e0e-85e0-f8d52700b81d"
      },
      "execution_count": 70,
      "outputs": [
        {
          "output_type": "error",
          "ename": "TypeError",
          "evalue": "exceptions must derive from BaseException",
          "traceback": [
            "\u001b[0;31m---------------------------------------------------------------------------\u001b[0m",
            "\u001b[0;31mTypeError\u001b[0m                                 Traceback (most recent call last)",
            "\u001b[0;32m/tmp/ipython-input-1694320160.py\u001b[0m in \u001b[0;36m<cell line: 0>\u001b[0;34m()\u001b[0m\n\u001b[1;32m      3\u001b[0m     \u001b[0;32mraise\u001b[0m \u001b[0;34m(\u001b[0m\u001b[0mValueError\u001b[0m\u001b[0;34m,\u001b[0m \u001b[0;34m\"Not Zero!\"\u001b[0m\u001b[0;34m)\u001b[0m\u001b[0;34m\u001b[0m\u001b[0;34m\u001b[0m\u001b[0m\n\u001b[1;32m      4\u001b[0m   \u001b[0mprint\u001b[0m\u001b[0;34m(\u001b[0m\u001b[0mzero\u001b[0m\u001b[0;34m)\u001b[0m\u001b[0;34m\u001b[0m\u001b[0;34m\u001b[0m\u001b[0m\n\u001b[0;32m----> 5\u001b[0;31m \u001b[0mprint_zero\u001b[0m\u001b[0;34m(\u001b[0m\u001b[0;36m10\u001b[0m\u001b[0;34m)\u001b[0m\u001b[0;34m\u001b[0m\u001b[0;34m\u001b[0m\u001b[0m\n\u001b[0m",
            "\u001b[0;32m/tmp/ipython-input-1694320160.py\u001b[0m in \u001b[0;36mprint_zero\u001b[0;34m(zero)\u001b[0m\n\u001b[1;32m      1\u001b[0m \u001b[0;32mdef\u001b[0m \u001b[0mprint_zero\u001b[0m\u001b[0;34m(\u001b[0m\u001b[0mzero\u001b[0m\u001b[0;34m)\u001b[0m\u001b[0;34m:\u001b[0m\u001b[0;34m\u001b[0m\u001b[0;34m\u001b[0m\u001b[0m\n\u001b[1;32m      2\u001b[0m   \u001b[0;32mif\u001b[0m \u001b[0mzero\u001b[0m \u001b[0;34m!=\u001b[0m \u001b[0;36m0\u001b[0m\u001b[0;34m:\u001b[0m\u001b[0;34m\u001b[0m\u001b[0;34m\u001b[0m\u001b[0m\n\u001b[0;32m----> 3\u001b[0;31m     \u001b[0;32mraise\u001b[0m \u001b[0;34m(\u001b[0m\u001b[0mValueError\u001b[0m\u001b[0;34m,\u001b[0m \u001b[0;34m\"Not Zero!\"\u001b[0m\u001b[0;34m)\u001b[0m\u001b[0;34m\u001b[0m\u001b[0;34m\u001b[0m\u001b[0m\n\u001b[0m\u001b[1;32m      4\u001b[0m   \u001b[0mprint\u001b[0m\u001b[0;34m(\u001b[0m\u001b[0mzero\u001b[0m\u001b[0;34m)\u001b[0m\u001b[0;34m\u001b[0m\u001b[0;34m\u001b[0m\u001b[0m\n\u001b[1;32m      5\u001b[0m \u001b[0mprint_zero\u001b[0m\u001b[0;34m(\u001b[0m\u001b[0;36m10\u001b[0m\u001b[0;34m)\u001b[0m\u001b[0;34m\u001b[0m\u001b[0;34m\u001b[0m\u001b[0m\n",
            "\u001b[0;31mTypeError\u001b[0m: exceptions must derive from BaseException"
          ]
        }
      ]
    },
    {
      "cell_type": "markdown",
      "source": [
        "Tập hợp - Set\n",
        "\n",
        "Bộ là danh sách không có mục nhập trùng lặp."
      ],
      "metadata": {
        "id": "7i5tKORKzRQf"
      }
    },
    {
      "cell_type": "code",
      "source": [
        "set_one = set([\"Alice\", \"Carol\", \"Dan\", \"Eve\", \"Heidi\"])\n",
        "set_two = set([\"Bob\", \"Dan\", \"Eve\", \"Grace\", \"Heidi\"])\n",
        "print(\"set_one giao voi set_two: {}\".format(set_one.intersection(set_two)))\n",
        "print(\"set_two giao voi set_one: {}\".format(set_two.intersection(set_one)))\n",
        "print(\"set_one khac biet doi xung: {}\".format(set_one.symmetric_difference(set_two)))\n",
        "print(\"set_one khac voi set_two: {}\".format(set_one.difference(set_two)))\n",
        "print(\"set_two khac voi set_one: {}\".format(set_two.difference(set_one)))\n",
        "print(\"set_one khac voi set_one: {}\".format(set_two.union(set_two)))\n",
        "print(\"set_two hop voi set_one: {}\".format(set_two.union(set_one)))"
      ],
      "metadata": {
        "colab": {
          "base_uri": "https://localhost:8080/"
        },
        "id": "N9JOktWTzNxl",
        "outputId": "b16041fa-bef5-4afa-b559-cb5019b0acfa"
      },
      "execution_count": 71,
      "outputs": [
        {
          "output_type": "stream",
          "name": "stdout",
          "text": [
            "set_one giao voi set_two: {'Dan', 'Eve', 'Heidi'}\n",
            "set_two giao voi set_one: {'Dan', 'Eve', 'Heidi'}\n",
            "set_one khac biet doi xung: {'Alice', 'Carol', 'Bob', 'Grace'}\n",
            "set_one khac voi set_two: {'Alice', 'Carol'}\n",
            "set_two khac voi set_one: {'Bob', 'Grace'}\n",
            "set_one khac voi set_one: {'Eve', 'Dan', 'Bob', 'Grace', 'Heidi'}\n",
            "set_two hop voi set_one: {'Eve', 'Alice', 'Grace', 'Carol', 'Dan', 'Bob', 'Heidi'}\n"
          ]
        }
      ]
    },
    {
      "cell_type": "markdown",
      "source": [
        "Numpy là thư viện xử lý mảng đa chiều với các tính năng\n",
        "\n",
        "Kiểm tra tự động: kiểm tra tính nhất quán dữ liệu\n",
        "\n",
        "Lưu trữ liền kề: lưu trữ dữ liệu trong các vị trí bộnhớ liền kề → ít dung lượng hơn\n",
        "\n",
        "Số học vector nhanh hơn\n",
        "\n",
        "Để sử dụng cần (as np được dùng như bí danh để tiện\n",
        "việc sử dụng về sau)"
      ],
      "metadata": {
        "id": "3TiSY3os0y8c"
      }
    },
    {
      "cell_type": "code",
      "source": [
        "import numpy as np"
      ],
      "metadata": {
        "id": "O856GvLs0-q7"
      },
      "execution_count": 72,
      "outputs": []
    },
    {
      "cell_type": "markdown",
      "source": [
        "Mảng 1D\n",
        "\n",
        "Mảng numpy gồm 02 biến trạng thái quan trọng: dtype\n",
        "(kiểu) và shape (hình trạng)\n",
        "\n",
        "Khởi tạo: numpy.array(list)"
      ],
      "metadata": {
        "id": "rmCr7WM21KiP"
      }
    },
    {
      "cell_type": "code",
      "source": [
        "v = np.array([1,4,9,3,2])\n",
        "print('Mang 1D trong numpy la %s' %v)\n",
        "print(\"dtype cua mang numpy la %s\" %v.dtype)\n",
        "print(\"shape la %s\"%v.shape)"
      ],
      "metadata": {
        "colab": {
          "base_uri": "https://localhost:8080/"
        },
        "id": "-qAjwoOY1Hwd",
        "outputId": "a5536bba-506f-44e7-e845-c8bae64d20ca"
      },
      "execution_count": 74,
      "outputs": [
        {
          "output_type": "stream",
          "name": "stdout",
          "text": [
            "Mang 1D trong numpy la [1 4 9 3 2]\n",
            "dtype cua mang numpy la int64\n",
            "shape la 5\n"
          ]
        }
      ]
    },
    {
      "cell_type": "markdown",
      "source": [
        "Khởi tạo qua arange: numpy.arange([start, ]stop,\n",
        "[step, ] dtype=None)"
      ],
      "metadata": {
        "id": "Daf6_iJM1nG3"
      }
    },
    {
      "cell_type": "code",
      "source": [
        "v1 = np.arange(5)\n",
        "print(\"Tao mot mang numpy bang arange (stop=5) : %s\"%v1)\n",
        "v2 = np.arange(2,5)\n",
        "print(\"tao mot mang numpy bang arrange (start=2, stop=5):%s\"%v2)\n",
        "v3= np.arange(0, -10,-2)\n",
        "print('Tao mot mang numpy bang arrange(start=0, sttop=-10, step=-2): %s'%v3)\n"
      ],
      "metadata": {
        "colab": {
          "base_uri": "https://localhost:8080/"
        },
        "id": "Qx2RqFoe1i4w",
        "outputId": "1a24ffdd-8b7b-41da-eb58-de7a1b750438"
      },
      "execution_count": 76,
      "outputs": [
        {
          "output_type": "stream",
          "name": "stdout",
          "text": [
            "Tao mot mang numpy bang arange (stop=5) : [0 1 2 3 4]\n",
            "tao mot mang numpy bang arrange (start=2, stop=5):[2 3 4]\n",
            "Tao mot mang numpy bang arrange(start=0, sttop=-10, step=-2): [ 0 -2 -4 -6 -8]\n"
          ]
        }
      ]
    },
    {
      "cell_type": "markdown",
      "source": [
        "Khởi tạo từ List của List: numpy.array ( object,\n",
        "dtype=None )"
      ],
      "metadata": {
        "id": "heuA2B072lvh"
      }
    },
    {
      "cell_type": "code",
      "source": [
        "pymat = [[1,2,3],[4,5,6]]\n",
        "npmat = np.array(pymat)\n",
        "print('ma tran numpy la \\n%s'%npmat)\n",
        "print('Phien ban phang cua ma tran numpy is %s'%npmat.flatten())\n"
      ],
      "metadata": {
        "colab": {
          "base_uri": "https://localhost:8080/"
        },
        "id": "AbH5MVn92WPl",
        "outputId": "c20bc7ed-82dd-4a0a-ef8b-2fa026c868f0"
      },
      "execution_count": 77,
      "outputs": [
        {
          "output_type": "stream",
          "name": "stdout",
          "text": [
            "ma tran numpy la \n",
            "[[1 2 3]\n",
            " [4 5 6]]\n",
            "Phien ban phang cua ma tran numpy is [1 2 3 4 5 6]\n"
          ]
        }
      ]
    },
    {
      "cell_type": "markdown",
      "source": [
        "Khởi tạo với zeros/ones:\n",
        "\n",
        "numpy.zeros(shape, dtype=float)\n",
        "\n",
        "numpy.ones(shape, dtype=float)"
      ],
      "metadata": {
        "id": "ewHnEeKY2_-7"
      }
    },
    {
      "cell_type": "code",
      "source": [
        "#mang 2 chieu 4\n",
        "mat_zeros = np.zeros(shape=(2,4))\n",
        "print('Ma tran 0 voi kich thuoc %s la \\n%s \\n'%(mat_zeros.shape, mat_zeros))\n",
        "mat_ones = np.ones(shape=(2,3))\n",
        "print(\"Ma tran 1 voi kich thuoc %s is \\n%s \\n\"%(mat_ones.shape, mat_ones))"
      ],
      "metadata": {
        "colab": {
          "base_uri": "https://localhost:8080/"
        },
        "id": "fsA6vOEC29R3",
        "outputId": "75e36d40-8a61-46ab-a436-e8e8509a663f"
      },
      "execution_count": 78,
      "outputs": [
        {
          "output_type": "stream",
          "name": "stdout",
          "text": [
            "Ma tran 0 voi kich thuoc (2, 4) la \n",
            "[[0. 0. 0. 0.]\n",
            " [0. 0. 0. 0.]] \n",
            "\n",
            "Ma tran 1 voi kich thuoc (2, 3) is \n",
            "[[1. 1. 1.]\n",
            " [1. 1. 1.]] \n",
            "\n"
          ]
        }
      ]
    },
    {
      "cell_type": "markdown",
      "source": [
        "Mảng 2D\n",
        "\n",
        "Khởi tạo với giá trị ngẫu nhiên:\n",
        "\n",
        "numpy.random.random(size=None,)\n",
        "\n",
        "numpy.random.randint(low, high, size=None, dtype=’I’)"
      ],
      "metadata": {
        "id": "cgmNqHUj3xYY"
      }
    },
    {
      "cell_type": "code",
      "source": [
        "mat1 = np.random.random(size=(3,2))\n",
        "print(\"ma tran sinh tu numpy.random.random la \\n%s\" %mat1)\n",
        "mat2 = np.random.randint(low=0, high=3, size=(3,2))\n",
        "print('ma tran sinh tu numpy.random.random la \\n%s'%mat2)\n",
        "mat3 = np.random.randn(3,2)\n",
        "print('ma tran sinh tu numpy.ramdom.randm la \\n%s' %mat3)\n"
      ],
      "metadata": {
        "colab": {
          "base_uri": "https://localhost:8080/"
        },
        "id": "sqvucK2H3vIT",
        "outputId": "fbe88fe1-b8fa-417b-91e2-43dd41578ed6"
      },
      "execution_count": 79,
      "outputs": [
        {
          "output_type": "stream",
          "name": "stdout",
          "text": [
            "ma tran sinh tu numpy.random.random la \n",
            "[[0.76031182 0.44288857]\n",
            " [0.17613792 0.32949959]\n",
            " [0.2482403  0.51768883]]\n",
            "ma tran sinh tu numpy.random.random la \n",
            "[[2 0]\n",
            " [1 2]\n",
            " [0 0]]\n",
            "ma tran sinh tu numpy.ramdom.randm la \n",
            "[[ 0.49975947 -0.9525462 ]\n",
            " [-0.27179778  0.48473108]\n",
            " [-0.89691608  2.41407315]]\n"
          ]
        }
      ]
    },
    {
      "cell_type": "markdown",
      "source": [
        "Cắt và lập chỉ mục trong Numpy\n",
        "\n",
        "Numpy có bắt đầu bằng 0\n",
        "\n",
        "Cắt (Slicing) tổng quát: [start]:[end]:[jump]\n",
        "\n",
        "Chỉ nhảy: ::2\n",
        "\n",
        "Chỉ điểm kết thúc: :5\n",
        "\n",
        "Điểm bắt đầu và nhảy: 2::-1\n",
        "\n",
        "Điểm kết thúc và nhảy: :5:2"
      ],
      "metadata": {
        "id": "qqxFeVM_0ys1"
      }
    },
    {
      "cell_type": "code",
      "source": [
        "#Bỏ n phần tử: vec[:-n]\n",
        "import numpy as np\n",
        "vec = np.arange(10)\n",
        "vec1 = vec[:-3]\n",
        "print('Ket qua sau khi bo 03 phan tu cuoi tu rang(10): \\n%s' %vec1)\n"
      ],
      "metadata": {
        "colab": {
          "base_uri": "https://localhost:8080/"
        },
        "id": "4FY128qs4nmw",
        "outputId": "266df40d-adb9-41f1-fc5f-8c80d9974ecb"
      },
      "execution_count": 80,
      "outputs": [
        {
          "output_type": "stream",
          "name": "stdout",
          "text": [
            "Ket qua sau khi bo 03 phan tu cuoi tu rang(10): \n",
            "[0 1 2 3 4 5 6]\n"
          ]
        }
      ]
    },
    {
      "cell_type": "markdown",
      "source": [
        "Cắt và lập chỉ mục trong Numpy"
      ],
      "metadata": {
        "id": "UnfxeE1j5HSN"
      }
    },
    {
      "cell_type": "code",
      "source": [
        "#Truy cập phần tử tại vị trí chẵn: vec[::2]\n",
        "vec1 = np.arange(0, 20, 3)\n",
        "print( 'Mang ban dau la %s\\n' %vec1)\n",
        "vec2 = vec1[::2]\n",
        "print('Phan tu tai vi tri chan %s\\n' %vec2)"
      ],
      "metadata": {
        "colab": {
          "base_uri": "https://localhost:8080/"
        },
        "id": "zWlRiPbB5Da4",
        "outputId": "f0d694dc-5aba-45a1-9296-312110c8ee7c"
      },
      "execution_count": 82,
      "outputs": [
        {
          "output_type": "stream",
          "name": "stdout",
          "text": [
            "Mang ban dau la [ 0  3  6  9 12 15 18]\n",
            "\n",
            "Phan tu tai vi tri chan [ 0  6 12 18]\n",
            "\n"
          ]
        }
      ]
    },
    {
      "cell_type": "code",
      "source": [
        "#Truy cập phần tử theo hướng ngược lại: vec[::-1]\n",
        "vec1 = np.arange(0,20,3)\n",
        "print('Mang ban dau la %s\\n' %vec1)\n",
        "vec2 = vec1[::-1]\n",
        "print('Mang sau khi dao nguoc lai %s\\n' %vec2)"
      ],
      "metadata": {
        "colab": {
          "base_uri": "https://localhost:8080/"
        },
        "id": "W1BxPDA_5iua",
        "outputId": "aab66e69-d070-465c-ac3a-7fe95f4b98ce"
      },
      "execution_count": 83,
      "outputs": [
        {
          "output_type": "stream",
          "name": "stdout",
          "text": [
            "Mang ban dau la [ 0  3  6  9 12 15 18]\n",
            "\n",
            "Mang sau khi dao nguoc lai [18 15 12  9  6  3  0]\n",
            "\n"
          ]
        }
      ]
    },
    {
      "cell_type": "code",
      "source": [
        "#Truy cập theo khoảng chỉ mục: vec[a:b]\n",
        "vec1 = np.arange(0,20,3)\n",
        "print('Mang ban dau la %s \\n' %vec1)\n",
        "vec2 = vec1[2:5]\n",
        "print('Mang gom phan tu [2:5) la %s\\n]' %vec2)"
      ],
      "metadata": {
        "colab": {
          "base_uri": "https://localhost:8080/"
        },
        "id": "71wayGWg5--n",
        "outputId": "583d112f-336b-48df-d9f6-e66f928a3f2c"
      },
      "execution_count": 84,
      "outputs": [
        {
          "output_type": "stream",
          "name": "stdout",
          "text": [
            "Mang ban dau la [ 0  3  6  9 12 15 18] \n",
            "\n",
            "Mang gom phan tu [2:5) la [ 6  9 12]\n",
            "]\n"
          ]
        }
      ]
    },
    {
      "cell_type": "code",
      "source": [
        "#Truy cập theo tập chỉ mục: vec[idxlist]\n",
        "idx=[0,1,5]\n",
        "vec1 = np.arange(0,20,3)\n",
        "print('Mang ban dau la %s\\n' %vec1)\n",
        "vec2 = vec1[idx]\n",
        "print('Ma tran con duoc tao bnag ca chi muc %s la %s\\n' %(idx,vec2))\n"
      ],
      "metadata": {
        "colab": {
          "base_uri": "https://localhost:8080/"
        },
        "id": "0O5NDy2x6UF0",
        "outputId": "b3ea924f-aa17-454e-d400-7daf84a5f2c5"
      },
      "execution_count": 85,
      "outputs": [
        {
          "output_type": "stream",
          "name": "stdout",
          "text": [
            "Mang ban dau la [ 0  3  6  9 12 15 18]\n",
            "\n",
            "Ma tran con duoc tao bnag ca chi muc [0, 1, 5] la [ 0  3 15]\n",
            "\n"
          ]
        }
      ]
    },
    {
      "cell_type": "code",
      "source": [
        "#tao ma tran con\n",
        "mat = np.random.randint(0,6,(3,5))\n",
        "#Tao ma tran voi 2 dong dau, 3 cot cuoi\n",
        "submat1 = mat[0:2, -2:]\n",
        "print('Ma tran ban dau \\n%sn' %mat)\n",
        "print('Ma tran con voi 2 dong dau va 2 cot cuoi \\n%s\\n' %submat1)\n",
        "submat2 = mat[:,3:-1]\n",
        "print('Sau khi lat cac cot ma tran: \\n%s\\n' %submat2)"
      ],
      "metadata": {
        "colab": {
          "base_uri": "https://localhost:8080/"
        },
        "id": "INbT4jvH6twf",
        "outputId": "2c4e66fa-50fb-4940-fa3d-1e10a4005a8d"
      },
      "execution_count": 86,
      "outputs": [
        {
          "output_type": "stream",
          "name": "stdout",
          "text": [
            "Ma tran ban dau \n",
            "[[4 3 1 0 4]\n",
            " [0 3 0 0 0]\n",
            " [4 3 2 4 4]]n\n",
            "Ma tran con voi 2 dong dau va 2 cot cuoi \n",
            "[[0 4]\n",
            " [0 0]]\n",
            "\n",
            "Sau khi lat cac cot ma tran: \n",
            "[[0]\n",
            " [0]\n",
            " [4]]\n",
            "\n"
          ]
        }
      ]
    },
    {
      "cell_type": "code",
      "source": [
        "#Tách ma trận ngang: numpy.hsplit(array, indices_or_sections) chia ma trận trên mặt phẳng ngang, số hàng không đổi\n",
        "mat = np.random.randint(0,6,(3,7))\n",
        "sp1, sp2, sp3 = np.hsplit(mat,[4,6])\n",
        "print('Original matrix of shape %s, is \\n%s\\n' %(mat.shape, mat))\n",
        "print('First split of shape %s, is ]\\n%s\\n'%(sp1.shape, sp1))\n",
        "print('Second split of shape %s, is \\n%s\\n'%(sp2.shape, sp2))\n",
        "print('Third split of shape %s, is \\n%s\\n'%(sp3.shape, sp3))"
      ],
      "metadata": {
        "colab": {
          "base_uri": "https://localhost:8080/"
        },
        "id": "IjLMTesG7SW1",
        "outputId": "9033cc8f-a260-4bcc-f801-1cde33258024"
      },
      "execution_count": 87,
      "outputs": [
        {
          "output_type": "stream",
          "name": "stdout",
          "text": [
            "Original matrix of shape (3, 7), is \n",
            "[[0 0 0 0 3 2 1]\n",
            " [3 2 3 4 0 3 5]\n",
            " [0 2 4 5 3 5 0]]\n",
            "\n",
            "First split of shape (3, 4), is ]\n",
            "[[0 0 0 0]\n",
            " [3 2 3 4]\n",
            " [0 2 4 5]]\n",
            "\n",
            "Second split of shape (3, 2), is \n",
            "[[3 2]\n",
            " [0 3]\n",
            " [3 5]]\n",
            "\n",
            "Third split of shape (3, 1), is \n",
            "[[1]\n",
            " [5]\n",
            " [0]]\n",
            "\n"
          ]
        }
      ]
    },
    {
      "cell_type": "code",
      "source": [
        "#Tách ma trận dọc: numpy.vsplit(array, indices_or_sections)chia nhỏ ma trận trên mặt phẳng thẳng đứng, số cột không đổi\n",
        "mat = np.random.randint(0,6,(3,7))\n",
        "sp1,sp2 = np.vsplit(mat,[1])\n",
        "print(\"Original matrix of shape %s, is \\n%s\\n\" %(mat.shape, mat))\n",
        "print(\"First split of shape %s, is \\n%s\\n\" %(sp1.shape, sp1))\n",
        "print(\"Second split of shape %s, is \\n%s\\n\" %(sp2.shape, sp2))"
      ],
      "metadata": {
        "colab": {
          "base_uri": "https://localhost:8080/"
        },
        "id": "gSBhsQnW75VW",
        "outputId": "e62c6c01-d203-4701-9ce0-dc0b8eb5af00"
      },
      "execution_count": 89,
      "outputs": [
        {
          "output_type": "stream",
          "name": "stdout",
          "text": [
            "Original matrix of shape (3, 7), is \n",
            "[[5 2 5 2 5 0 0]\n",
            " [3 2 0 3 0 5 0]\n",
            " [1 3 5 0 2 4 4]]\n",
            "\n",
            "First split of shape (1, 7), is \n",
            "[[5 2 5 2 5 0 0]]\n",
            "\n",
            "Second split of shape (2, 7), is \n",
            "[[3 2 0 3 0 5 0]\n",
            " [1 3 5 0 2 4 4]]\n",
            "\n"
          ]
        }
      ]
    },
    {
      "cell_type": "code",
      "source": [],
      "metadata": {
        "id": "-9rc-tBT8cah"
      },
      "execution_count": null,
      "outputs": []
    }
  ]
}